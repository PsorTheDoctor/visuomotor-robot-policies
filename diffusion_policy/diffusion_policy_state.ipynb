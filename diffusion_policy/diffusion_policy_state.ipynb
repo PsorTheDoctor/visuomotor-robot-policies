{
  "nbformat": 4,
  "nbformat_minor": 0,
  "metadata": {
    "colab": {
      "provenance": [],
      "gpuType": "T4",
      "authorship_tag": "ABX9TyN+EfaSnZ50K1QpaZSzRMV4",
      "include_colab_link": true
    },
    "kernelspec": {
      "name": "python3",
      "display_name": "Python 3"
    },
    "language_info": {
      "name": "python"
    },
    "accelerator": "GPU",
    "widgets": {
      "application/vnd.jupyter.widget-state+json": {
        "4810d68c04c2449fbb8cd6516cfcbd93": {
          "model_module": "@jupyter-widgets/controls",
          "model_name": "HBoxModel",
          "model_module_version": "1.5.0",
          "state": {
            "_dom_classes": [],
            "_model_module": "@jupyter-widgets/controls",
            "_model_module_version": "1.5.0",
            "_model_name": "HBoxModel",
            "_view_count": null,
            "_view_module": "@jupyter-widgets/controls",
            "_view_module_version": "1.5.0",
            "_view_name": "HBoxView",
            "box_style": "",
            "children": [
              "IPY_MODEL_1028ee62f9984c43a51e6e7c85de17e0",
              "IPY_MODEL_d0f8995b566f4923a5cfc1d0f18bab9e",
              "IPY_MODEL_07de1cb699c84dff84b46243bbc36ca0"
            ],
            "layout": "IPY_MODEL_ff127fb5c8ab4d8a9fb1e6f80459c1f7"
          }
        },
        "1028ee62f9984c43a51e6e7c85de17e0": {
          "model_module": "@jupyter-widgets/controls",
          "model_name": "HTMLModel",
          "model_module_version": "1.5.0",
          "state": {
            "_dom_classes": [],
            "_model_module": "@jupyter-widgets/controls",
            "_model_module_version": "1.5.0",
            "_model_name": "HTMLModel",
            "_view_count": null,
            "_view_module": "@jupyter-widgets/controls",
            "_view_module_version": "1.5.0",
            "_view_name": "HTMLView",
            "description": "",
            "description_tooltip": null,
            "layout": "IPY_MODEL_e9c4680970d8451380f28fde3bb1448f",
            "placeholder": "​",
            "style": "IPY_MODEL_58632feaa5b24837872c0cbba7767793",
            "value": "Eval PushTStateEnv: "
          }
        },
        "d0f8995b566f4923a5cfc1d0f18bab9e": {
          "model_module": "@jupyter-widgets/controls",
          "model_name": "FloatProgressModel",
          "model_module_version": "1.5.0",
          "state": {
            "_dom_classes": [],
            "_model_module": "@jupyter-widgets/controls",
            "_model_module_version": "1.5.0",
            "_model_name": "FloatProgressModel",
            "_view_count": null,
            "_view_module": "@jupyter-widgets/controls",
            "_view_module_version": "1.5.0",
            "_view_name": "ProgressView",
            "bar_style": "success",
            "description": "",
            "description_tooltip": null,
            "layout": "IPY_MODEL_d3f2cf43a6654cab98bccfe1667eafba",
            "max": 200,
            "min": 0,
            "orientation": "horizontal",
            "style": "IPY_MODEL_9efb2d31abc247c8818f94366ba2fee9",
            "value": 200
          }
        },
        "07de1cb699c84dff84b46243bbc36ca0": {
          "model_module": "@jupyter-widgets/controls",
          "model_name": "HTMLModel",
          "model_module_version": "1.5.0",
          "state": {
            "_dom_classes": [],
            "_model_module": "@jupyter-widgets/controls",
            "_model_module_version": "1.5.0",
            "_model_name": "HTMLModel",
            "_view_count": null,
            "_view_module": "@jupyter-widgets/controls",
            "_view_module_version": "1.5.0",
            "_view_name": "HTMLView",
            "description": "",
            "description_tooltip": null,
            "layout": "IPY_MODEL_9742a29603a3418ab63092ac8ce85dd5",
            "placeholder": "​",
            "style": "IPY_MODEL_58addc2b6f7348a8a0dc83e7678d1a27",
            "value": " 201/? [00:32&lt;00:00,  6.30it/s, reward=0.993]"
          }
        },
        "ff127fb5c8ab4d8a9fb1e6f80459c1f7": {
          "model_module": "@jupyter-widgets/base",
          "model_name": "LayoutModel",
          "model_module_version": "1.2.0",
          "state": {
            "_model_module": "@jupyter-widgets/base",
            "_model_module_version": "1.2.0",
            "_model_name": "LayoutModel",
            "_view_count": null,
            "_view_module": "@jupyter-widgets/base",
            "_view_module_version": "1.2.0",
            "_view_name": "LayoutView",
            "align_content": null,
            "align_items": null,
            "align_self": null,
            "border": null,
            "bottom": null,
            "display": null,
            "flex": null,
            "flex_flow": null,
            "grid_area": null,
            "grid_auto_columns": null,
            "grid_auto_flow": null,
            "grid_auto_rows": null,
            "grid_column": null,
            "grid_gap": null,
            "grid_row": null,
            "grid_template_areas": null,
            "grid_template_columns": null,
            "grid_template_rows": null,
            "height": null,
            "justify_content": null,
            "justify_items": null,
            "left": null,
            "margin": null,
            "max_height": null,
            "max_width": null,
            "min_height": null,
            "min_width": null,
            "object_fit": null,
            "object_position": null,
            "order": null,
            "overflow": null,
            "overflow_x": null,
            "overflow_y": null,
            "padding": null,
            "right": null,
            "top": null,
            "visibility": null,
            "width": null
          }
        },
        "e9c4680970d8451380f28fde3bb1448f": {
          "model_module": "@jupyter-widgets/base",
          "model_name": "LayoutModel",
          "model_module_version": "1.2.0",
          "state": {
            "_model_module": "@jupyter-widgets/base",
            "_model_module_version": "1.2.0",
            "_model_name": "LayoutModel",
            "_view_count": null,
            "_view_module": "@jupyter-widgets/base",
            "_view_module_version": "1.2.0",
            "_view_name": "LayoutView",
            "align_content": null,
            "align_items": null,
            "align_self": null,
            "border": null,
            "bottom": null,
            "display": null,
            "flex": null,
            "flex_flow": null,
            "grid_area": null,
            "grid_auto_columns": null,
            "grid_auto_flow": null,
            "grid_auto_rows": null,
            "grid_column": null,
            "grid_gap": null,
            "grid_row": null,
            "grid_template_areas": null,
            "grid_template_columns": null,
            "grid_template_rows": null,
            "height": null,
            "justify_content": null,
            "justify_items": null,
            "left": null,
            "margin": null,
            "max_height": null,
            "max_width": null,
            "min_height": null,
            "min_width": null,
            "object_fit": null,
            "object_position": null,
            "order": null,
            "overflow": null,
            "overflow_x": null,
            "overflow_y": null,
            "padding": null,
            "right": null,
            "top": null,
            "visibility": null,
            "width": null
          }
        },
        "58632feaa5b24837872c0cbba7767793": {
          "model_module": "@jupyter-widgets/controls",
          "model_name": "DescriptionStyleModel",
          "model_module_version": "1.5.0",
          "state": {
            "_model_module": "@jupyter-widgets/controls",
            "_model_module_version": "1.5.0",
            "_model_name": "DescriptionStyleModel",
            "_view_count": null,
            "_view_module": "@jupyter-widgets/base",
            "_view_module_version": "1.2.0",
            "_view_name": "StyleView",
            "description_width": ""
          }
        },
        "d3f2cf43a6654cab98bccfe1667eafba": {
          "model_module": "@jupyter-widgets/base",
          "model_name": "LayoutModel",
          "model_module_version": "1.2.0",
          "state": {
            "_model_module": "@jupyter-widgets/base",
            "_model_module_version": "1.2.0",
            "_model_name": "LayoutModel",
            "_view_count": null,
            "_view_module": "@jupyter-widgets/base",
            "_view_module_version": "1.2.0",
            "_view_name": "LayoutView",
            "align_content": null,
            "align_items": null,
            "align_self": null,
            "border": null,
            "bottom": null,
            "display": null,
            "flex": null,
            "flex_flow": null,
            "grid_area": null,
            "grid_auto_columns": null,
            "grid_auto_flow": null,
            "grid_auto_rows": null,
            "grid_column": null,
            "grid_gap": null,
            "grid_row": null,
            "grid_template_areas": null,
            "grid_template_columns": null,
            "grid_template_rows": null,
            "height": null,
            "justify_content": null,
            "justify_items": null,
            "left": null,
            "margin": null,
            "max_height": null,
            "max_width": null,
            "min_height": null,
            "min_width": null,
            "object_fit": null,
            "object_position": null,
            "order": null,
            "overflow": null,
            "overflow_x": null,
            "overflow_y": null,
            "padding": null,
            "right": null,
            "top": null,
            "visibility": null,
            "width": null
          }
        },
        "9efb2d31abc247c8818f94366ba2fee9": {
          "model_module": "@jupyter-widgets/controls",
          "model_name": "ProgressStyleModel",
          "model_module_version": "1.5.0",
          "state": {
            "_model_module": "@jupyter-widgets/controls",
            "_model_module_version": "1.5.0",
            "_model_name": "ProgressStyleModel",
            "_view_count": null,
            "_view_module": "@jupyter-widgets/base",
            "_view_module_version": "1.2.0",
            "_view_name": "StyleView",
            "bar_color": null,
            "description_width": ""
          }
        },
        "9742a29603a3418ab63092ac8ce85dd5": {
          "model_module": "@jupyter-widgets/base",
          "model_name": "LayoutModel",
          "model_module_version": "1.2.0",
          "state": {
            "_model_module": "@jupyter-widgets/base",
            "_model_module_version": "1.2.0",
            "_model_name": "LayoutModel",
            "_view_count": null,
            "_view_module": "@jupyter-widgets/base",
            "_view_module_version": "1.2.0",
            "_view_name": "LayoutView",
            "align_content": null,
            "align_items": null,
            "align_self": null,
            "border": null,
            "bottom": null,
            "display": null,
            "flex": null,
            "flex_flow": null,
            "grid_area": null,
            "grid_auto_columns": null,
            "grid_auto_flow": null,
            "grid_auto_rows": null,
            "grid_column": null,
            "grid_gap": null,
            "grid_row": null,
            "grid_template_areas": null,
            "grid_template_columns": null,
            "grid_template_rows": null,
            "height": null,
            "justify_content": null,
            "justify_items": null,
            "left": null,
            "margin": null,
            "max_height": null,
            "max_width": null,
            "min_height": null,
            "min_width": null,
            "object_fit": null,
            "object_position": null,
            "order": null,
            "overflow": null,
            "overflow_x": null,
            "overflow_y": null,
            "padding": null,
            "right": null,
            "top": null,
            "visibility": null,
            "width": null
          }
        },
        "58addc2b6f7348a8a0dc83e7678d1a27": {
          "model_module": "@jupyter-widgets/controls",
          "model_name": "DescriptionStyleModel",
          "model_module_version": "1.5.0",
          "state": {
            "_model_module": "@jupyter-widgets/controls",
            "_model_module_version": "1.5.0",
            "_model_name": "DescriptionStyleModel",
            "_view_count": null,
            "_view_module": "@jupyter-widgets/base",
            "_view_module_version": "1.2.0",
            "_view_name": "StyleView",
            "description_width": ""
          }
        }
      }
    }
  },
  "cells": [
    {
      "cell_type": "markdown",
      "metadata": {
        "id": "view-in-github",
        "colab_type": "text"
      },
      "source": [
        "<a href=\"https://colab.research.google.com/github/PsorTheDoctor/visuomotor-robot-policies/blob/main/diffusion_policy/diffusion_policy_state.ipynb\" target=\"_parent\"><img src=\"https://colab.research.google.com/assets/colab-badge.svg\" alt=\"Open In Colab\"/></a>"
      ]
    },
    {
      "cell_type": "markdown",
      "source": [
        "#Diffusion policy: state-based environment"
      ],
      "metadata": {
        "id": "RIDw1MweaajR"
      }
    },
    {
      "cell_type": "code",
      "execution_count": null,
      "metadata": {
        "id": "UKLFMBoztT-a"
      },
      "outputs": [],
      "source": [
        "!pip3 install -q torch==1.13.1 torchvision==0.14.1 diffusers==0.18.2 \\\n",
        "scikit-image==0.19.3 scikit-video==1.1.11 zarr==2.12.0 numcodecs==0.10.2 \\\n",
        "pygame==2.1.2 pymunk==6.2.1 gym==0.26.2 shapely==1.8.4"
      ]
    },
    {
      "cell_type": "code",
      "source": [
        "!git clone https://github.com/PsorTheDoctor/visuomotor-robot-policies.git\n",
        "%cd visuomotor-robot-policies/"
      ],
      "metadata": {
        "id": "MsAWQ7hA2y5y"
      },
      "execution_count": null,
      "outputs": []
    },
    {
      "cell_type": "code",
      "source": [
        "import os\n",
        "import numpy as np\n",
        "import gdown\n",
        "import torch\n",
        "import torch.nn as nn\n",
        "import collections\n",
        "from skvideo.io import vwrite\n",
        "from IPython.display import Video\n",
        "from huggingface_hub.utils import IGNORE_GIT_FOLDER_PATTERNS\n",
        "\n",
        "from diffusers.schedulers.scheduling_ddpm import DDPMScheduler\n",
        "from diffusers.training_utils import EMAModel\n",
        "from diffusers.optimization import get_scheduler\n",
        "from tqdm.auto import tqdm\n",
        "\n",
        "from utils.env import PushTEnv\n",
        "from utils.dataset import PushTStateDataset, normalize_data, unnormalize_data\n",
        "from utils.unet import ConditionalUnet1D\n",
        "\n",
        "env = PushTEnv()\n",
        "env.seed(1000)\n",
        "obs, IGNORE_GIT_FOLDER_PATTERNS = env.reset()\n",
        "action = env.action_space.sample()\n",
        "obs, reward, terminated, truncated, info = env.step(action)\n",
        "\n",
        "with np.printoptions(precision=4, suppress=True, threshold=5):\n",
        "  print(\"Obs: \", repr(obs))\n",
        "  print(\"Obs:        [agent_x,  agent_y,  block_x,  block_y,    block_angle]\")\n",
        "  print(\"Action: \", repr(action))\n",
        "  print(\"Action:   [target_agent_x, target_agent_y]\")"
      ],
      "metadata": {
        "colab": {
          "base_uri": "https://localhost:8080/"
        },
        "id": "4rEdJ56F2Hl0",
        "outputId": "67b31d7d-ba39-43ff-cab4-976d37a89c52"
      },
      "execution_count": 17,
      "outputs": [
        {
          "output_type": "stream",
          "name": "stdout",
          "text": [
            "Obs:  array([133.9656, 183.8927, 292.    , 351.    ,   2.9196])\n",
            "Obs:        [agent_x,  agent_y,  block_x,  block_y,    block_angle]\n",
            "Action:  array([126.7373, 333.7111])\n",
            "Action:   [target_agent_x, target_agent_y]\n"
          ]
        }
      ]
    },
    {
      "cell_type": "markdown",
      "source": [
        "##Dataset"
      ],
      "metadata": {
        "id": "yrSPfXFDMyFt"
      }
    },
    {
      "cell_type": "code",
      "source": [
        "dataset_path = \"pusht_cchi_v7_replay.zarr.zip\"\n",
        "if not os.path.isfile(dataset_path):\n",
        "  id = \"1KY1InLurpMvJDRb14L9NlXT_fEsCvVUq&confirm=t\"\n",
        "  gdown.download(id=id, output=dataset_path, quiet=False)\n",
        "\n",
        "pred_horizon = 16\n",
        "obs_horizon = 2\n",
        "action_horizon = 8\n",
        "\n",
        "dataset = PushTStateDataset(\n",
        "    dataset_path=dataset_path,\n",
        "    pred_horizon=pred_horizon,\n",
        "    obs_horizon=obs_horizon,\n",
        "    action_horizon=action_horizon\n",
        ")\n",
        "stats = dataset.stats\n",
        "\n",
        "dataloader = torch.utils.data.DataLoader(\n",
        "    dataset,\n",
        "    batch_size=256,\n",
        "    num_workers=1,\n",
        "    shuffle=True,\n",
        "    pin_memory=True,\n",
        "    persistent_workers=True\n",
        ")\n",
        "batch = next(iter(dataloader))\n",
        "print(\"batch['obs'].shape:\", batch['obs'].shape)\n",
        "print(\"batch['action'].shape\", batch['action'].shape)"
      ],
      "metadata": {
        "colab": {
          "base_uri": "https://localhost:8080/"
        },
        "id": "hQ-8d0015FdK",
        "outputId": "8ab4cd01-821e-48d8-bcb1-3a53af06b30e"
      },
      "execution_count": 9,
      "outputs": [
        {
          "output_type": "stream",
          "name": "stdout",
          "text": [
            "batch['obs'].shape: torch.Size([256, 2, 5])\n",
            "batch['action'].shape torch.Size([256, 16, 2])\n"
          ]
        }
      ]
    },
    {
      "cell_type": "markdown",
      "source": [
        "##Network"
      ],
      "metadata": {
        "id": "rin0d2gGK-RB"
      }
    },
    {
      "cell_type": "code",
      "source": [
        "obs_dim = 5\n",
        "action_dim = 2\n",
        "\n",
        "noise_pred_net = ConditionalUnet1D(\n",
        "    input_dim=action_dim,\n",
        "    global_cond_dim=obs_dim*obs_horizon\n",
        ")\n",
        "noised_action = torch.randn((1, pred_horizon, action_dim))\n",
        "obs = torch.zeros((1, obs_horizon, obs_dim))\n",
        "diffusion_iter = torch.zeros((1,))\n",
        "\n",
        "noise = noise_pred_net(\n",
        "    sample=noised_action,\n",
        "    timestep=diffusion_iter,\n",
        "    global_cond=obs.flatten(start_dim=1)\n",
        ")\n",
        "denoised_action = noised_action - noise\n",
        "diffusion_iters = 100\n",
        "noise_scheduler = DDPMScheduler(\n",
        "    num_train_timesteps=diffusion_iters,\n",
        "    beta_schedule='squaredcos_cap_v2',\n",
        "    clip_sample=True,\n",
        "    prediction_type='epsilon'\n",
        ")\n",
        "device = torch.device('cuda')\n",
        "_ = noise_pred_net.to(device)"
      ],
      "metadata": {
        "colab": {
          "base_uri": "https://localhost:8080/"
        },
        "id": "j1i7wTyN9_Nz",
        "outputId": "82ce28fe-ee7b-410a-fd49-23e0f62defca"
      },
      "execution_count": 10,
      "outputs": [
        {
          "output_type": "stream",
          "name": "stdout",
          "text": [
            "number of parameters: 6.535322e+07\n"
          ]
        }
      ]
    },
    {
      "cell_type": "markdown",
      "source": [
        "##Training"
      ],
      "metadata": {
        "id": "MDiFjUM7LF0S"
      }
    },
    {
      "cell_type": "code",
      "source": [
        "epochs = 100\n",
        "\n",
        "# Exponential Moving Average\n",
        "ema = EMAModel(\n",
        "    parameters=noise_pred_net.parameters(), power=0.75\n",
        ")\n",
        "optimizer = torch.optim.AdamW(\n",
        "    params=noise_pred_net.parameters(),\n",
        "    lr=1e-4, weight_decay=1e-6\n",
        ")\n",
        "lr_scheduler = get_scheduler(\n",
        "    name='cosine',\n",
        "    optimizer=optimizer,\n",
        "    num_warmup_steps=500,\n",
        "    num_training_steps=len(dataloader) * epochs\n",
        ")\n",
        "\n",
        "with tqdm(range(epochs), desc='Epoch') as tglobal:\n",
        "  for epoch_idx in tglobal:\n",
        "    epoch_loss = list()\n",
        "    with tqdm(dataloader, desc='Batch', leave=False) as tepoch:\n",
        "      for nbatch in tepoch:\n",
        "        nobs = nbatch['obs'].to(device)\n",
        "        naction = nbatch['action'].to(device)\n",
        "        B = nobs.shape[0]\n",
        "\n",
        "        obs_cond = nobs[:, :obs_horizon, :]\n",
        "        obs_cond = obs_cond.flatten(start_dim=1)\n",
        "\n",
        "        noise = torch.randn(naction.shape, device=device)\n",
        "\n",
        "        timesteps = torch.randint(\n",
        "            0, noise_scheduler.config.num_train_timesteps,\n",
        "            (B,), device=device\n",
        "        ).long()\n",
        "\n",
        "        noisy_actions = noise_scheduler.add_noise(\n",
        "            naction, noise, timesteps\n",
        "        )\n",
        "        noise_pred = noise_pred_net(\n",
        "            noisy_actions, timesteps, global_cond=obs_cond\n",
        "        )\n",
        "        loss = nn.functional.mse_loss(noise_pred, noise)\n",
        "\n",
        "        loss.backward()\n",
        "        optimizer.step()\n",
        "        optimizer.zero_grad()\n",
        "        lr_scheduler.step()\n",
        "        ema.step(noise_pred_net.parameters())\n",
        "\n",
        "        loss_cpu = loss.item()\n",
        "        epoch_loss.append(loss_cpu)\n",
        "        tepoch.set_postfix(loss=loss_cpu)\n",
        "    tglobal.set_postfix(loss=np.mean(epoch_loss))\n",
        "\n",
        "ema_noise_pred_net = noise_pred_net\n",
        "ema.copy_to(ema_noise_pred_net.parameters)"
      ],
      "metadata": {
        "id": "XXNG6E2FLFXJ"
      },
      "execution_count": null,
      "outputs": []
    },
    {
      "cell_type": "markdown",
      "source": [
        "##Inference"
      ],
      "metadata": {
        "id": "-6vktZvyR-ik"
      }
    },
    {
      "cell_type": "code",
      "source": [
        "max_steps = 200\n",
        "env = PushTEnv()\n",
        "env.seed(100000)  # use a seed >200 to avoid initial states seen in the training data\n",
        "\n",
        "obs, info = env.reset()\n",
        "obs_deque = collections.deque(\n",
        "    [obs] * obs_horizon, maxlen=obs_horizon\n",
        ")\n",
        "imgs = [env.render(mode='rgb_array')]\n",
        "rewards = list()\n",
        "done = False\n",
        "step_idx = 0\n",
        "\n",
        "with tqdm(total=max_steps, desc='Eval PushTStateEnv') as pbar:\n",
        "  while not done:\n",
        "    B = 1\n",
        "    obs_seq = np.stack(obs_deque)\n",
        "    nobs = normalize_data(obs_seq, stats=stats['obs'])\n",
        "    nobs = torch.from_numpy(nobs).to(device, dtype=torch.float32)\n",
        "\n",
        "    with torch.no_grad():\n",
        "      obs_cond = nobs.unsqueeze(0).flatten(start_dim=1)\n",
        "\n",
        "      # Initialize action from Gaussian noise\n",
        "      noisy_action = torch.randn(\n",
        "          (B, pred_horizon, action_dim), device=device\n",
        "      )\n",
        "      naction = noisy_action\n",
        "      noise_scheduler.set_timesteps(diffusion_iters)\n",
        "      for k in noise_scheduler.timesteps:\n",
        "        # Predict noise\n",
        "        noise_pred = ema_noise_pred_net(\n",
        "            sample=naction,\n",
        "            timestep=k,\n",
        "            global_cond=obs_cond\n",
        "        )\n",
        "        # Inverse diffusion step (remove noise)\n",
        "        naction = noise_scheduler.step(\n",
        "            model_output=noise_pred,\n",
        "            timestep=k,\n",
        "            sample=naction\n",
        "        ).prev_sample\n",
        "\n",
        "    naction = naction.detach().to('cpu').numpy()\n",
        "    naction = naction[0]\n",
        "    action_pred = unnormalize_data(naction, stats=stats['action'])\n",
        "\n",
        "    start = obs_horizon - 1\n",
        "    end = start + action_horizon\n",
        "    action = action_pred[start:end, :]\n",
        "\n",
        "    # Execute action_horizon number of steps without replanning\n",
        "    for i in range(len(action)):\n",
        "      obs, reward, done, _, info = env.step(action[i])\n",
        "      obs_deque.append(obs)\n",
        "      rewards.append(reward)\n",
        "      imgs.append(env.render(mode='rgb_array'))\n",
        "\n",
        "      step_idx += 1\n",
        "      pbar.update(1)\n",
        "      pbar.set_postfix(reward=reward)\n",
        "      if step_idx > max_steps:\n",
        "        done = True\n",
        "      if done:\n",
        "        break\n",
        "\n",
        "print('Score:', max(rewards))\n",
        "\n",
        "from IPython.display import Video\n",
        "vwrite('vis.mp4', imgs)\n",
        "Video('vis.mp4', embed=True, width=256, height=256)"
      ],
      "metadata": {
        "colab": {
          "base_uri": "https://localhost:8080/",
          "height": 327,
          "referenced_widgets": [
            "4810d68c04c2449fbb8cd6516cfcbd93",
            "1028ee62f9984c43a51e6e7c85de17e0",
            "d0f8995b566f4923a5cfc1d0f18bab9e",
            "07de1cb699c84dff84b46243bbc36ca0",
            "ff127fb5c8ab4d8a9fb1e6f80459c1f7",
            "e9c4680970d8451380f28fde3bb1448f",
            "58632feaa5b24837872c0cbba7767793",
            "d3f2cf43a6654cab98bccfe1667eafba",
            "9efb2d31abc247c8818f94366ba2fee9",
            "9742a29603a3418ab63092ac8ce85dd5",
            "58addc2b6f7348a8a0dc83e7678d1a27"
          ]
        },
        "id": "xcCAdr1BR8yL",
        "outputId": "9eeeb984-c2dc-44ea-fcc9-9a35ce779d8e"
      },
      "execution_count": 18,
      "outputs": [
        {
          "output_type": "display_data",
          "data": {
            "text/plain": [
              "Eval PushTStateEnv:   0%|          | 0/200 [00:00<?, ?it/s]"
            ],
            "application/vnd.jupyter.widget-view+json": {
              "version_major": 2,
              "version_minor": 0,
              "model_id": "4810d68c04c2449fbb8cd6516cfcbd93"
            }
          },
          "metadata": {}
        },
        {
          "output_type": "stream",
          "name": "stdout",
          "text": [
            "Score: 0.9928486767975621\n"
          ]
        },
        {
          "output_type": "execute_result",
          "data": {
            "text/plain": [
              "<IPython.core.display.Video object>"
            ],
            "text/html": [
              "<video controls  width=\"256\"  height=\"256\">\n",
              " <source src=\"data:video/mp4;base64,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\" type=\"video/mp4\">\n",
              " Your browser does not support the video tag.\n",
              " </video>"
            ]
          },
          "metadata": {},
          "execution_count": 18
        }
      ]
    }
  ]
}