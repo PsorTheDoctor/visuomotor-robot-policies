{
  "nbformat": 4,
  "nbformat_minor": 0,
  "metadata": {
    "colab": {
      "provenance": [],
      "gpuType": "T4",
      "authorship_tag": "ABX9TyN5mcx+CWqnp7G2C0sPb7hJ",
      "include_colab_link": true
    },
    "kernelspec": {
      "name": "python3",
      "display_name": "Python 3"
    },
    "language_info": {
      "name": "python"
    },
    "accelerator": "GPU",
    "widgets": {
      "application/vnd.jupyter.widget-state+json": {
        "0876eaa09d1945c19159a0c7a54a5df9": {
          "model_module": "@jupyter-widgets/controls",
          "model_name": "HBoxModel",
          "model_module_version": "1.5.0",
          "state": {
            "_dom_classes": [],
            "_model_module": "@jupyter-widgets/controls",
            "_model_module_version": "1.5.0",
            "_model_name": "HBoxModel",
            "_view_count": null,
            "_view_module": "@jupyter-widgets/controls",
            "_view_module_version": "1.5.0",
            "_view_name": "HBoxView",
            "box_style": "",
            "children": [
              "IPY_MODEL_0fb464873f8d42019078ea67ede0ab06",
              "IPY_MODEL_56422e56a07444018b89bd9af76b47b8",
              "IPY_MODEL_ca894c9060cc42179c59bb4e17388a85"
            ],
            "layout": "IPY_MODEL_58025d4e6f7247ed979167064b453653"
          }
        },
        "0fb464873f8d42019078ea67ede0ab06": {
          "model_module": "@jupyter-widgets/controls",
          "model_name": "HTMLModel",
          "model_module_version": "1.5.0",
          "state": {
            "_dom_classes": [],
            "_model_module": "@jupyter-widgets/controls",
            "_model_module_version": "1.5.0",
            "_model_name": "HTMLModel",
            "_view_count": null,
            "_view_module": "@jupyter-widgets/controls",
            "_view_module_version": "1.5.0",
            "_view_name": "HTMLView",
            "description": "",
            "description_tooltip": null,
            "layout": "IPY_MODEL_dc7eaaa49b0a4ef39d91c1d4444d0010",
            "placeholder": "​",
            "style": "IPY_MODEL_b3c96096ca5c418ab4cdd3834b65d5dd",
            "value": "Eval PushTStateEnv:  68%"
          }
        },
        "56422e56a07444018b89bd9af76b47b8": {
          "model_module": "@jupyter-widgets/controls",
          "model_name": "FloatProgressModel",
          "model_module_version": "1.5.0",
          "state": {
            "_dom_classes": [],
            "_model_module": "@jupyter-widgets/controls",
            "_model_module_version": "1.5.0",
            "_model_name": "FloatProgressModel",
            "_view_count": null,
            "_view_module": "@jupyter-widgets/controls",
            "_view_module_version": "1.5.0",
            "_view_name": "ProgressView",
            "bar_style": "danger",
            "description": "",
            "description_tooltip": null,
            "layout": "IPY_MODEL_1f4b7c753a2e475b94862afaf4a2c4ef",
            "max": 200,
            "min": 0,
            "orientation": "horizontal",
            "style": "IPY_MODEL_203cf175c65d47d5bc5c5d864911feca",
            "value": 135
          }
        },
        "ca894c9060cc42179c59bb4e17388a85": {
          "model_module": "@jupyter-widgets/controls",
          "model_name": "HTMLModel",
          "model_module_version": "1.5.0",
          "state": {
            "_dom_classes": [],
            "_model_module": "@jupyter-widgets/controls",
            "_model_module_version": "1.5.0",
            "_model_name": "HTMLModel",
            "_view_count": null,
            "_view_module": "@jupyter-widgets/controls",
            "_view_module_version": "1.5.0",
            "_view_name": "HTMLView",
            "description": "",
            "description_tooltip": null,
            "layout": "IPY_MODEL_b1b6021aaaa8414ab917498d81057db1",
            "placeholder": "​",
            "style": "IPY_MODEL_20e71ff86365440d90c7e1f1f2d22020",
            "value": " 135/200 [00:27&lt;00:11,  5.90it/s, reward=1]"
          }
        },
        "58025d4e6f7247ed979167064b453653": {
          "model_module": "@jupyter-widgets/base",
          "model_name": "LayoutModel",
          "model_module_version": "1.2.0",
          "state": {
            "_model_module": "@jupyter-widgets/base",
            "_model_module_version": "1.2.0",
            "_model_name": "LayoutModel",
            "_view_count": null,
            "_view_module": "@jupyter-widgets/base",
            "_view_module_version": "1.2.0",
            "_view_name": "LayoutView",
            "align_content": null,
            "align_items": null,
            "align_self": null,
            "border": null,
            "bottom": null,
            "display": null,
            "flex": null,
            "flex_flow": null,
            "grid_area": null,
            "grid_auto_columns": null,
            "grid_auto_flow": null,
            "grid_auto_rows": null,
            "grid_column": null,
            "grid_gap": null,
            "grid_row": null,
            "grid_template_areas": null,
            "grid_template_columns": null,
            "grid_template_rows": null,
            "height": null,
            "justify_content": null,
            "justify_items": null,
            "left": null,
            "margin": null,
            "max_height": null,
            "max_width": null,
            "min_height": null,
            "min_width": null,
            "object_fit": null,
            "object_position": null,
            "order": null,
            "overflow": null,
            "overflow_x": null,
            "overflow_y": null,
            "padding": null,
            "right": null,
            "top": null,
            "visibility": null,
            "width": null
          }
        },
        "dc7eaaa49b0a4ef39d91c1d4444d0010": {
          "model_module": "@jupyter-widgets/base",
          "model_name": "LayoutModel",
          "model_module_version": "1.2.0",
          "state": {
            "_model_module": "@jupyter-widgets/base",
            "_model_module_version": "1.2.0",
            "_model_name": "LayoutModel",
            "_view_count": null,
            "_view_module": "@jupyter-widgets/base",
            "_view_module_version": "1.2.0",
            "_view_name": "LayoutView",
            "align_content": null,
            "align_items": null,
            "align_self": null,
            "border": null,
            "bottom": null,
            "display": null,
            "flex": null,
            "flex_flow": null,
            "grid_area": null,
            "grid_auto_columns": null,
            "grid_auto_flow": null,
            "grid_auto_rows": null,
            "grid_column": null,
            "grid_gap": null,
            "grid_row": null,
            "grid_template_areas": null,
            "grid_template_columns": null,
            "grid_template_rows": null,
            "height": null,
            "justify_content": null,
            "justify_items": null,
            "left": null,
            "margin": null,
            "max_height": null,
            "max_width": null,
            "min_height": null,
            "min_width": null,
            "object_fit": null,
            "object_position": null,
            "order": null,
            "overflow": null,
            "overflow_x": null,
            "overflow_y": null,
            "padding": null,
            "right": null,
            "top": null,
            "visibility": null,
            "width": null
          }
        },
        "b3c96096ca5c418ab4cdd3834b65d5dd": {
          "model_module": "@jupyter-widgets/controls",
          "model_name": "DescriptionStyleModel",
          "model_module_version": "1.5.0",
          "state": {
            "_model_module": "@jupyter-widgets/controls",
            "_model_module_version": "1.5.0",
            "_model_name": "DescriptionStyleModel",
            "_view_count": null,
            "_view_module": "@jupyter-widgets/base",
            "_view_module_version": "1.2.0",
            "_view_name": "StyleView",
            "description_width": ""
          }
        },
        "1f4b7c753a2e475b94862afaf4a2c4ef": {
          "model_module": "@jupyter-widgets/base",
          "model_name": "LayoutModel",
          "model_module_version": "1.2.0",
          "state": {
            "_model_module": "@jupyter-widgets/base",
            "_model_module_version": "1.2.0",
            "_model_name": "LayoutModel",
            "_view_count": null,
            "_view_module": "@jupyter-widgets/base",
            "_view_module_version": "1.2.0",
            "_view_name": "LayoutView",
            "align_content": null,
            "align_items": null,
            "align_self": null,
            "border": null,
            "bottom": null,
            "display": null,
            "flex": null,
            "flex_flow": null,
            "grid_area": null,
            "grid_auto_columns": null,
            "grid_auto_flow": null,
            "grid_auto_rows": null,
            "grid_column": null,
            "grid_gap": null,
            "grid_row": null,
            "grid_template_areas": null,
            "grid_template_columns": null,
            "grid_template_rows": null,
            "height": null,
            "justify_content": null,
            "justify_items": null,
            "left": null,
            "margin": null,
            "max_height": null,
            "max_width": null,
            "min_height": null,
            "min_width": null,
            "object_fit": null,
            "object_position": null,
            "order": null,
            "overflow": null,
            "overflow_x": null,
            "overflow_y": null,
            "padding": null,
            "right": null,
            "top": null,
            "visibility": null,
            "width": null
          }
        },
        "203cf175c65d47d5bc5c5d864911feca": {
          "model_module": "@jupyter-widgets/controls",
          "model_name": "ProgressStyleModel",
          "model_module_version": "1.5.0",
          "state": {
            "_model_module": "@jupyter-widgets/controls",
            "_model_module_version": "1.5.0",
            "_model_name": "ProgressStyleModel",
            "_view_count": null,
            "_view_module": "@jupyter-widgets/base",
            "_view_module_version": "1.2.0",
            "_view_name": "StyleView",
            "bar_color": null,
            "description_width": ""
          }
        },
        "b1b6021aaaa8414ab917498d81057db1": {
          "model_module": "@jupyter-widgets/base",
          "model_name": "LayoutModel",
          "model_module_version": "1.2.0",
          "state": {
            "_model_module": "@jupyter-widgets/base",
            "_model_module_version": "1.2.0",
            "_model_name": "LayoutModel",
            "_view_count": null,
            "_view_module": "@jupyter-widgets/base",
            "_view_module_version": "1.2.0",
            "_view_name": "LayoutView",
            "align_content": null,
            "align_items": null,
            "align_self": null,
            "border": null,
            "bottom": null,
            "display": null,
            "flex": null,
            "flex_flow": null,
            "grid_area": null,
            "grid_auto_columns": null,
            "grid_auto_flow": null,
            "grid_auto_rows": null,
            "grid_column": null,
            "grid_gap": null,
            "grid_row": null,
            "grid_template_areas": null,
            "grid_template_columns": null,
            "grid_template_rows": null,
            "height": null,
            "justify_content": null,
            "justify_items": null,
            "left": null,
            "margin": null,
            "max_height": null,
            "max_width": null,
            "min_height": null,
            "min_width": null,
            "object_fit": null,
            "object_position": null,
            "order": null,
            "overflow": null,
            "overflow_x": null,
            "overflow_y": null,
            "padding": null,
            "right": null,
            "top": null,
            "visibility": null,
            "width": null
          }
        },
        "20e71ff86365440d90c7e1f1f2d22020": {
          "model_module": "@jupyter-widgets/controls",
          "model_name": "DescriptionStyleModel",
          "model_module_version": "1.5.0",
          "state": {
            "_model_module": "@jupyter-widgets/controls",
            "_model_module_version": "1.5.0",
            "_model_name": "DescriptionStyleModel",
            "_view_count": null,
            "_view_module": "@jupyter-widgets/base",
            "_view_module_version": "1.2.0",
            "_view_name": "StyleView",
            "description_width": ""
          }
        }
      }
    }
  },
  "cells": [
    {
      "cell_type": "markdown",
      "metadata": {
        "id": "view-in-github",
        "colab_type": "text"
      },
      "source": [
        "<a href=\"https://colab.research.google.com/github/PsorTheDoctor/visuomotor-robot-policies/blob/main/diffusion_policy/diffusion_policy_vision.ipynb\" target=\"_parent\"><img src=\"https://colab.research.google.com/assets/colab-badge.svg\" alt=\"Open In Colab\"/></a>"
      ]
    },
    {
      "cell_type": "markdown",
      "source": [
        "#Diffusion policy: vision-based environment"
      ],
      "metadata": {
        "id": "RIDw1MweaajR"
      }
    },
    {
      "cell_type": "code",
      "execution_count": 1,
      "metadata": {
        "id": "UKLFMBoztT-a"
      },
      "outputs": [],
      "source": [
        "!pip3 install -q torch==1.13.1 torchvision==0.14.1 diffusers==0.18.2 \\\n",
        "scikit-image==0.19.3 scikit-video==1.1.11 zarr==2.12.0 numcodecs==0.10.2 \\\n",
        "pygame==2.1.2 pymunk==6.2.1 gym==0.26.2 shapely==1.8.4"
      ]
    },
    {
      "cell_type": "code",
      "source": [
        "!git clone https://github.com/PsorTheDoctor/visuomotor-robot-policies.git\n",
        "%cd visuomotor-robot-policies/"
      ],
      "metadata": {
        "id": "MsAWQ7hA2y5y",
        "colab": {
          "base_uri": "https://localhost:8080/"
        },
        "outputId": "581d18e9-cea4-4a55-ca50-9b64d18966aa"
      },
      "execution_count": 3,
      "outputs": [
        {
          "output_type": "stream",
          "name": "stdout",
          "text": [
            "/content/visuomotor-robot-policies\n"
          ]
        }
      ]
    },
    {
      "cell_type": "code",
      "source": [
        "from typing import Callable\n",
        "import os\n",
        "import numpy as np\n",
        "import gdown\n",
        "import torch\n",
        "import torch.nn as nn\n",
        "import torchvision\n",
        "import collections\n",
        "from skvideo.io import vwrite\n",
        "from IPython.display import Video\n",
        "\n",
        "from diffusers.schedulers.scheduling_ddpm import DDPMScheduler\n",
        "from diffusers.training_utils import EMAModel\n",
        "from diffusers.optimization import get_scheduler\n",
        "from tqdm.auto import tqdm\n",
        "\n",
        "from utils.env import PushTImageEnv\n",
        "from utils.dataset import PushTImageDataset, normalize_data, unnormalize_data\n",
        "from utils.unet import ConditionalUnet1D\n",
        "\n",
        "env = PushTImageEnv()\n",
        "env.seed(1000)\n",
        "obs, info = env.reset()\n",
        "action = env.action_space.sample()\n",
        "obs, reward, terminated, truncated, info = env.step(action)\n",
        "\n",
        "with np.printoptions(precision=4, suppress=True, threshold=5):\n",
        "  print(\"Obs: \", repr(obs))\n",
        "  print(\"Obs:        [agent_x,  agent_y,  block_x,  block_y,    block_angle]\")\n",
        "  print(\"Action: \", repr(action))\n",
        "  print(\"Action:   [target_agent_x, target_agent_y]\")"
      ],
      "metadata": {
        "colab": {
          "base_uri": "https://localhost:8080/"
        },
        "id": "4rEdJ56F2Hl0",
        "outputId": "c4d2f696-d5fb-4366-e533-ffc4c81074ef"
      },
      "execution_count": 4,
      "outputs": [
        {
          "output_type": "stream",
          "name": "stdout",
          "text": [
            "Obs:  {'image': array([[[1.    , 0.9725, 0.9725, ..., 0.9725, 0.9725, 1.    ],\n",
            "        [0.9725, 0.8706, 0.9137, ..., 0.9137, 0.8706, 0.9725],\n",
            "        [0.9686, 0.9137, 1.    , ..., 1.    , 0.9137, 0.9686],\n",
            "        ...,\n",
            "        [0.9686, 0.9137, 1.    , ..., 1.    , 0.9137, 0.9686],\n",
            "        [0.9725, 0.8706, 0.9137, ..., 0.9137, 0.8706, 0.9725],\n",
            "        [1.    , 0.9725, 0.9725, ..., 0.9725, 0.9725, 1.    ]],\n",
            "\n",
            "       [[1.    , 0.9725, 0.9725, ..., 0.9725, 0.9725, 1.    ],\n",
            "        [0.9725, 0.8706, 0.9137, ..., 0.9137, 0.8706, 0.9725],\n",
            "        [0.9686, 0.9137, 1.    , ..., 1.    , 0.9137, 0.9686],\n",
            "        ...,\n",
            "        [0.9686, 0.9137, 1.    , ..., 1.    , 0.9137, 0.9686],\n",
            "        [0.9725, 0.8706, 0.9137, ..., 0.9137, 0.8706, 0.9725],\n",
            "        [1.    , 0.9725, 0.9725, ..., 0.9725, 0.9725, 1.    ]],\n",
            "\n",
            "       [[1.    , 0.9725, 0.9725, ..., 0.9725, 0.9725, 1.    ],\n",
            "        [0.9725, 0.8706, 0.9137, ..., 0.9137, 0.8706, 0.9725],\n",
            "        [0.9686, 0.9137, 1.    , ..., 1.    , 0.9137, 0.9686],\n",
            "        ...,\n",
            "        [0.9686, 0.9137, 1.    , ..., 1.    , 0.9137, 0.9686],\n",
            "        [0.9725, 0.8706, 0.9137, ..., 0.9137, 0.8706, 0.9725],\n",
            "        [1.    , 0.9725, 0.9725, ..., 0.9725, 0.9725, 1.    ]]],\n",
            "      dtype=float32), 'agent_pos': array([169.6424, 233.687 ])}\n",
            "Obs:        [agent_x,  agent_y,  block_x,  block_y,    block_angle]\n",
            "Action:  array([247.4009, 502.122 ])\n",
            "Action:   [target_agent_x, target_agent_y]\n"
          ]
        }
      ]
    },
    {
      "cell_type": "markdown",
      "source": [
        "##Dataset"
      ],
      "metadata": {
        "id": "yrSPfXFDMyFt"
      }
    },
    {
      "cell_type": "code",
      "source": [
        "dataset_path = \"pusht_cchi_v7_replay.zarr.zip\"\n",
        "if not os.path.isfile(dataset_path):\n",
        "  id = \"1KY1InLurpMvJDRb14L9NlXT_fEsCvVUq&confirm=t\"\n",
        "  gdown.download(id=id, output=dataset_path, quiet=False)\n",
        "\n",
        "pred_horizon = 16\n",
        "obs_horizon = 2\n",
        "action_horizon = 8\n",
        "\n",
        "dataset = PushTImageDataset(\n",
        "    dataset_path=dataset_path,\n",
        "    pred_horizon=pred_horizon,\n",
        "    obs_horizon=obs_horizon,\n",
        "    action_horizon=action_horizon\n",
        ")\n",
        "stats = dataset.stats\n",
        "\n",
        "dataloader = torch.utils.data.DataLoader(\n",
        "    dataset,\n",
        "    batch_size=64,\n",
        "    num_workers=4,\n",
        "    shuffle=True,\n",
        "    pin_memory=True,\n",
        "    persistent_workers=True\n",
        ")\n",
        "batch = next(iter(dataloader))\n",
        "print(\"batch['image'].shape:\", batch['image'].shape)\n",
        "print(\"batch['agent_pos'].shape:\", batch['agent_pos'].shape)\n",
        "print(\"batch['action'].shape\", batch['action'].shape)"
      ],
      "metadata": {
        "colab": {
          "base_uri": "https://localhost:8080/"
        },
        "id": "hQ-8d0015FdK",
        "outputId": "3002280e-4e9c-44bf-e067-086cb62a4d4f"
      },
      "execution_count": 5,
      "outputs": [
        {
          "output_type": "stream",
          "name": "stderr",
          "text": [
            "/usr/local/lib/python3.10/dist-packages/torch/utils/data/dataloader.py:554: UserWarning: This DataLoader will create 4 worker processes in total. Our suggested max number of worker in current system is 2, which is smaller than what this DataLoader is going to create. Please be aware that excessive worker creation might get DataLoader running slow or even freeze, lower the worker number to avoid potential slowness/freeze if necessary.\n",
            "  warnings.warn(_create_warning_msg(\n"
          ]
        },
        {
          "output_type": "stream",
          "name": "stdout",
          "text": [
            "batch['image'].shape: torch.Size([64, 2, 3, 96, 96])\n",
            "batch['agent_pos'].shape: torch.Size([64, 2, 2])\n",
            "batch['action'].shape torch.Size([64, 16, 2])\n"
          ]
        }
      ]
    },
    {
      "cell_type": "markdown",
      "source": [
        "##Network"
      ],
      "metadata": {
        "id": "rin0d2gGK-RB"
      }
    },
    {
      "cell_type": "code",
      "source": [
        "def get_resnet(name:str, weights=None, **kwargs) -> nn.Module:\n",
        "  \"\"\"\n",
        "  name: resnet18, resnet34, resnet50\n",
        "  weights: \"IMAGENET1K_V1\", None\n",
        "  \"\"\"\n",
        "  # Use standard ResNet implementation from torchvision.\n",
        "  func = getattr(torchvision.models, name)\n",
        "  resnet = func(weights=weights, **kwargs)\n",
        "\n",
        "  # Remove the final fully connected layer.\n",
        "  # For resnet18, the output dim should be 512.\n",
        "  resnet.fc = torch.nn.Identity()\n",
        "  return resnet\n",
        "\n",
        "def replace_submodules(\n",
        "    root_module: nn.Module,\n",
        "    predicate: Callable[[nn.Module], bool],\n",
        "    func: Callable[[nn.Module], nn.Module]) -> nn.Module:\n",
        "  \"\"\"\n",
        "  Replace all submodules selected by the predicate with\n",
        "  the output of func.\n",
        "\n",
        "  predicate: Return true if the module is to be replaced.\n",
        "  func: Return new module to use.\n",
        "  \"\"\"\n",
        "  if predicate(root_module):\n",
        "    return func(root_module)\n",
        "\n",
        "  bn_list = [k.split('.') for k, m\n",
        "      in root_module.named_modules(remove_duplicate=True)\n",
        "    if predicate(m)]\n",
        "  for *parent, k in bn_list:\n",
        "    parent_module = root_module\n",
        "    if len(parent) > 0:\n",
        "      parent_module = root_module.get_submodule('.'.join(parent))\n",
        "    if isinstance(parent_module, nn.Sequential):\n",
        "      src_module = parent_module[int(k)]\n",
        "    else:\n",
        "      src_module = getattr(parent_module, k)\n",
        "    tgt_module = func(src_module)\n",
        "    if isinstance(parent_module, nn.Sequential):\n",
        "      parent_module[int(k)] = tgt_module\n",
        "    else:\n",
        "      setattr(parent_module, k, tgt_module)\n",
        "  # verify that all modules are replaced\n",
        "  bn_list = [k.split('.') for k, m\n",
        "      in root_module.named_modules(remove_duplicate=True)\n",
        "      if predicate(m)]\n",
        "  assert len(bn_list) == 0\n",
        "  return root_module\n",
        "\n",
        "def replace_bn_with_gn(\n",
        "  root_module: nn.Module,\n",
        "  features_per_group: int=16) -> nn.Module:\n",
        "  \"\"\"\n",
        "  Relace all BatchNorm layers with GroupNorm.\n",
        "  \"\"\"\n",
        "  replace_submodules(\n",
        "      root_module=root_module,\n",
        "      predicate=lambda x: isinstance(x, nn.BatchNorm2d),\n",
        "      func=lambda x: nn.GroupNorm(\n",
        "          num_groups=x.num_features//features_per_group,\n",
        "          num_channels=x.num_features)\n",
        "  )\n",
        "  return root_module"
      ],
      "metadata": {
        "id": "j1i7wTyN9_Nz"
      },
      "execution_count": 6,
      "outputs": []
    },
    {
      "cell_type": "code",
      "source": [
        "vision_encoder = get_resnet('resnet18')\n",
        "vision_encoder = replace_bn_with_gn(vision_encoder)\n",
        "vision_feature_dim = 512\n",
        "lowdim_obs_dim = 2\n",
        "obs_dim = vision_feature_dim + lowdim_obs_dim\n",
        "action_dim = 2\n",
        "noise_pred_net = ConditionalUnet1D(\n",
        "    input_dim=action_dim,\n",
        "    global_cond_dim=obs_dim*obs_horizon\n",
        ")\n",
        "nets = nn.ModuleDict({\n",
        "    'vision_encoder': vision_encoder,\n",
        "    'noise_pred_net': noise_pred_net\n",
        "})\n",
        "with torch.no_grad():\n",
        "  img = torch.zeros((1, obs_horizon, 3, 96, 96))\n",
        "  agent_pos = torch.zeros((1, obs_horizon, 2))\n",
        "  img_features = nets['vision_encoder'](img.flatten(end_dim=1))\n",
        "  img_features = img_features.reshape(*img.shape[:2], -1)\n",
        "  obs = torch.cat([img_features, agent_pos], dim=-1)\n",
        "\n",
        "  # The noise prediction network\n",
        "  noised_action = torch.randn((1, pred_horizon, action_dim))\n",
        "  diffusion_iter = torch.zeros((1,))\n",
        "\n",
        "  # Illustration of removing noise\n",
        "  noise = nets['noise_pred_net'](\n",
        "      sample=noised_action, timestep=diffusion_iter, global_cond=obs.flatten(start_dim=1)\n",
        "  )\n",
        "  denoised_action = noised_action - noise\n",
        "\n",
        "diffusion_iters = 100\n",
        "noise_scheduler = DDPMScheduler(\n",
        "    num_train_timesteps=diffusion_iters,\n",
        "    beta_schedule='squaredcos_cap_v2',\n",
        "    clip_sample=True,\n",
        "    prediction_type='epsilon'\n",
        ")\n",
        "device = torch.device('cuda')\n",
        "_ = nets.to(device)"
      ],
      "metadata": {
        "id": "umOHplSCkwFE",
        "colab": {
          "base_uri": "https://localhost:8080/"
        },
        "outputId": "e09d74a0-576e-49a5-ebe3-b3a880b64bbb"
      },
      "execution_count": 7,
      "outputs": [
        {
          "output_type": "stream",
          "name": "stdout",
          "text": [
            "number of parameters: 7.994727e+07\n"
          ]
        }
      ]
    },
    {
      "cell_type": "markdown",
      "source": [
        "##Training"
      ],
      "metadata": {
        "id": "MDiFjUM7LF0S"
      }
    },
    {
      "cell_type": "code",
      "source": [
        "epochs = 100\n",
        "\n",
        "# Exponential Moving Average\n",
        "ema = EMAModel(\n",
        "    parameters=nets.parameters(), power=0.75\n",
        ")\n",
        "optimizer = torch.optim.AdamW(\n",
        "    params=nets.parameters(),\n",
        "    lr=1e-4, weight_decay=1e-6\n",
        ")\n",
        "lr_scheduler = get_scheduler(\n",
        "    name='cosine',\n",
        "    optimizer=optimizer,\n",
        "    num_warmup_steps=500,\n",
        "    num_training_steps=len(dataloader) * epochs\n",
        ")\n",
        "\n",
        "with tqdm(range(epochs), desc='Epoch') as tglobal:\n",
        "  for epoch_idx in tglobal:\n",
        "    epoch_loss = list()\n",
        "    with tqdm(dataloader, desc='Batch', leave=False) as tepoch:\n",
        "      for nbatch in tepoch:\n",
        "        nimage = nbatch['image'][:, :obs_horizon].to(device)\n",
        "        nagent_pos = nbatch['agent_pos'][:, :obs_horizon].to(device)\n",
        "        naction = nbatch['action'].to(device)\n",
        "        B = nagent_pos.shape[0]\n",
        "\n",
        "        img_features = nets['vision_encoder'](nimage.flatten(end_dim=1))\n",
        "        img_features = img_features.reshape(*nimage.shape[:2], -1)\n",
        "\n",
        "        obs_features = torch.cat([img_features, nagent_pos], dim=-1)\n",
        "        obs_cond = obs_features.flatten(start_dim=1)\n",
        "\n",
        "        noise = torch.randn(naction.shape, device=device)\n",
        "\n",
        "        timesteps = torch.randint(\n",
        "            0, noise_scheduler.config.num_train_timesteps,\n",
        "            (B,), device=device\n",
        "        ).long()\n",
        "\n",
        "        noisy_actions = noise_scheduler.add_noise(\n",
        "            naction, noise, timesteps\n",
        "        )\n",
        "        noise_pred = noise_pred_net(\n",
        "            noisy_actions, timesteps, global_cond=obs_cond\n",
        "        )\n",
        "        loss = nn.functional.mse_loss(noise_pred, noise)\n",
        "\n",
        "        loss.backward()\n",
        "        optimizer.step()\n",
        "        optimizer.zero_grad()\n",
        "        lr_scheduler.step()\n",
        "        ema.step(nets.parameters())\n",
        "\n",
        "        loss_cpu = loss.item()\n",
        "        epoch_loss.append(loss_cpu)\n",
        "        tepoch.set_postfix(loss=loss_cpu)\n",
        "    tglobal.set_postfix(loss=np.mean(epoch_loss))\n",
        "\n",
        "ema_nets = nets\n",
        "ema.copy_to(ema_nets.parameters())"
      ],
      "metadata": {
        "id": "XXNG6E2FLFXJ"
      },
      "execution_count": null,
      "outputs": []
    },
    {
      "cell_type": "markdown",
      "source": [
        "##Inference"
      ],
      "metadata": {
        "id": "-6vktZvyR-ik"
      }
    },
    {
      "cell_type": "code",
      "source": [
        "max_steps = 200\n",
        "env = PushTImageEnv()\n",
        "env.seed(100000)  # use a seed >200 to avoid initial states seen in the training data\n",
        "\n",
        "obs, info = env.reset()\n",
        "obs_deque = collections.deque(\n",
        "    [obs] * obs_horizon, maxlen=obs_horizon\n",
        ")\n",
        "imgs = [env.render(mode='rgb_array')]\n",
        "rewards = list()\n",
        "done = False\n",
        "step_idx = 0\n",
        "\n",
        "with tqdm(total=max_steps, desc='Eval PushTStateEnv') as pbar:\n",
        "  while not done:\n",
        "    B = 1\n",
        "    images = np.stack([x['image'] for x in obs_deque])\n",
        "    agent_poses = np.stack([x['agent_pos'] for x in obs_deque])\n",
        "\n",
        "    nagent_poses = normalize_data(agent_poses, stats=stats['agent_pos'])\n",
        "    nimages = images\n",
        "    nimages = torch.from_numpy(nimages).to(device, dtype=torch.float32)\n",
        "    nagent_poses = torch.from_numpy(nagent_poses).to(device, dtype=torch.float32)\n",
        "\n",
        "    with torch.no_grad():\n",
        "      img_features = ema_nets['vision_encoder'](nimages)\n",
        "      obs_features = torch.cat([img_features, nagent_poses], dim=-1)\n",
        "      obs_cond = obs_features.unsqueeze(0).flatten(start_dim=1)\n",
        "\n",
        "      # Initialize action from Gaussian noise\n",
        "      noisy_action = torch.randn(\n",
        "          (B, pred_horizon, action_dim), device=device\n",
        "      )\n",
        "      naction = noisy_action\n",
        "      noise_scheduler.set_timesteps(diffusion_iters)\n",
        "      for k in noise_scheduler.timesteps:\n",
        "        # Predict noise\n",
        "        noise_pred = ema_nets['noise_pred_net'](\n",
        "            sample=naction, timestep=k, global_cond=obs_cond\n",
        "        )\n",
        "        # Inverse diffusion step (remove noise)\n",
        "        naction = noise_scheduler.step(\n",
        "            model_output=noise_pred, timestep=k, sample=naction\n",
        "        ).prev_sample\n",
        "\n",
        "    naction = naction.detach().to('cpu').numpy()\n",
        "    naction = naction[0]\n",
        "    action_pred = unnormalize_data(naction, stats=stats['action'])\n",
        "\n",
        "    start = obs_horizon - 1\n",
        "    end = start + action_horizon\n",
        "    action = action_pred[start:end, :]\n",
        "\n",
        "    # Execute action_horizon number of steps without replanning\n",
        "    for i in range(len(action)):\n",
        "      obs, reward, done, _, info = env.step(action[i])\n",
        "      obs_deque.append(obs)\n",
        "      rewards.append(reward)\n",
        "      imgs.append(env.render(mode='rgb_array'))\n",
        "\n",
        "      step_idx += 1\n",
        "      pbar.update(1)\n",
        "      pbar.set_postfix(reward=reward)\n",
        "      if step_idx > max_steps:\n",
        "        done = True\n",
        "      if done:\n",
        "        break\n",
        "\n",
        "print('Score:', max(rewards))\n",
        "\n",
        "from IPython.display import Video\n",
        "vwrite('vis.mp4', imgs)\n",
        "Video('vis.mp4', embed=True, width=256, height=256)"
      ],
      "metadata": {
        "colab": {
          "base_uri": "https://localhost:8080/",
          "height": 327,
          "referenced_widgets": [
            "0876eaa09d1945c19159a0c7a54a5df9",
            "0fb464873f8d42019078ea67ede0ab06",
            "56422e56a07444018b89bd9af76b47b8",
            "ca894c9060cc42179c59bb4e17388a85",
            "58025d4e6f7247ed979167064b453653",
            "dc7eaaa49b0a4ef39d91c1d4444d0010",
            "b3c96096ca5c418ab4cdd3834b65d5dd",
            "1f4b7c753a2e475b94862afaf4a2c4ef",
            "203cf175c65d47d5bc5c5d864911feca",
            "b1b6021aaaa8414ab917498d81057db1",
            "20e71ff86365440d90c7e1f1f2d22020"
          ]
        },
        "id": "xcCAdr1BR8yL",
        "outputId": "576717f8-e68a-427d-a65f-4bc2c8bc4e30"
      },
      "execution_count": 11,
      "outputs": [
        {
          "output_type": "display_data",
          "data": {
            "text/plain": [
              "Eval PushTStateEnv:   0%|          | 0/200 [00:00<?, ?it/s]"
            ],
            "application/vnd.jupyter.widget-view+json": {
              "version_major": 2,
              "version_minor": 0,
              "model_id": "0876eaa09d1945c19159a0c7a54a5df9"
            }
          },
          "metadata": {}
        },
        {
          "output_type": "stream",
          "name": "stdout",
          "text": [
            "Score: 1.0\n"
          ]
        },
        {
          "output_type": "execute_result",
          "data": {
            "text/plain": [
              "<IPython.core.display.Video object>"
            ],
            "text/html": [
              "<video controls  width=\"256\"  height=\"256\">\n",
              " <source src=\"data:video/mp4;base64,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\" type=\"video/mp4\">\n",
              " Your browser does not support the video tag.\n",
              " </video>"
            ]
          },
          "metadata": {},
          "execution_count": 11
        }
      ]
    }
  ]
}